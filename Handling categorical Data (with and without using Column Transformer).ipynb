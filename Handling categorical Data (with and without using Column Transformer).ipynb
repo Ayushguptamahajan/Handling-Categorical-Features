{
 "cells": [
  {
   "cell_type": "markdown",
   "id": "5473d198",
   "metadata": {},
   "source": [
    "# Handling Categorical Columns without using column transformer"
   ]
  },
  {
   "cell_type": "code",
   "execution_count": 174,
   "id": "87029398",
   "metadata": {},
   "outputs": [],
   "source": [
    "import numpy as np\n",
    "import pandas as pd\n",
    "\n",
    "from sklearn.model_selection import train_test_split\n",
    "\n",
    "\n",
    "from sklearn.tree import DecisionTreeClassifier\n",
    "from sklearn.linear_model import LogisticRegression\n",
    "from sklearn.metrics import accuracy_score\n",
    "from sklearn.impute import SimpleImputer\n",
    "from sklearn.preprocessing import LabelEncoder,OneHotEncoder,OrdinalEncoder\n",
    "from sklearn.tree import DecisionTreeClassifier\n",
    "from sklearn.compose import ColumnTransformer\n",
    "from sklearn.pipeline import Pipeline,make_pipeline\n",
    "from sklearn.preprocessing import MinMaxScaler,StandardScaler,RobustScaler,MaxAbsScaler\n",
    "from sklearn.feature_selection import SelectKBest,chi2 \n",
    "\n",
    "#display pipeline\n",
    "\n",
    "from sklearn import set_config\n",
    "set_config(display='diagram')"
   ]
  },
  {
   "cell_type": "code",
   "execution_count": 4,
   "id": "24b323ed",
   "metadata": {},
   "outputs": [],
   "source": [
    "df_customer = pd.read_csv('customer.csv')\n",
    "df_car = pd.read_csv('cars.csv')\n"
   ]
  },
  {
   "cell_type": "code",
   "execution_count": 8,
   "id": "5622ccaa",
   "metadata": {},
   "outputs": [
    {
     "data": {
      "text/html": [
       "<div>\n",
       "<style scoped>\n",
       "    .dataframe tbody tr th:only-of-type {\n",
       "        vertical-align: middle;\n",
       "    }\n",
       "\n",
       "    .dataframe tbody tr th {\n",
       "        vertical-align: top;\n",
       "    }\n",
       "\n",
       "    .dataframe thead th {\n",
       "        text-align: right;\n",
       "    }\n",
       "</style>\n",
       "<table border=\"1\" class=\"dataframe\">\n",
       "  <thead>\n",
       "    <tr style=\"text-align: right;\">\n",
       "      <th></th>\n",
       "      <th>age</th>\n",
       "      <th>gender</th>\n",
       "      <th>review</th>\n",
       "      <th>education</th>\n",
       "      <th>purchased</th>\n",
       "    </tr>\n",
       "  </thead>\n",
       "  <tbody>\n",
       "    <tr>\n",
       "      <th>25</th>\n",
       "      <td>57</td>\n",
       "      <td>Female</td>\n",
       "      <td>Good</td>\n",
       "      <td>School</td>\n",
       "      <td>No</td>\n",
       "    </tr>\n",
       "  </tbody>\n",
       "</table>\n",
       "</div>"
      ],
      "text/plain": [
       "    age  gender review education purchased\n",
       "25   57  Female   Good    School        No"
      ]
     },
     "execution_count": 8,
     "metadata": {},
     "output_type": "execute_result"
    }
   ],
   "source": [
    "df_customer.sample()"
   ]
  },
  {
   "cell_type": "code",
   "execution_count": 7,
   "id": "428bbd61",
   "metadata": {},
   "outputs": [
    {
     "data": {
      "text/html": [
       "<div>\n",
       "<style scoped>\n",
       "    .dataframe tbody tr th:only-of-type {\n",
       "        vertical-align: middle;\n",
       "    }\n",
       "\n",
       "    .dataframe tbody tr th {\n",
       "        vertical-align: top;\n",
       "    }\n",
       "\n",
       "    .dataframe thead th {\n",
       "        text-align: right;\n",
       "    }\n",
       "</style>\n",
       "<table border=\"1\" class=\"dataframe\">\n",
       "  <thead>\n",
       "    <tr style=\"text-align: right;\">\n",
       "      <th></th>\n",
       "      <th>brand</th>\n",
       "      <th>km_driven</th>\n",
       "      <th>fuel</th>\n",
       "      <th>owner</th>\n",
       "      <th>selling_price</th>\n",
       "    </tr>\n",
       "  </thead>\n",
       "  <tbody>\n",
       "    <tr>\n",
       "      <th>2985</th>\n",
       "      <td>Volkswagen</td>\n",
       "      <td>60000</td>\n",
       "      <td>Petrol</td>\n",
       "      <td>Third Owner</td>\n",
       "      <td>360000</td>\n",
       "    </tr>\n",
       "  </tbody>\n",
       "</table>\n",
       "</div>"
      ],
      "text/plain": [
       "           brand  km_driven    fuel        owner  selling_price\n",
       "2985  Volkswagen      60000  Petrol  Third Owner         360000"
      ]
     },
     "execution_count": 7,
     "metadata": {},
     "output_type": "execute_result"
    }
   ],
   "source": [
    "df_car.sample()"
   ]
  },
  {
   "cell_type": "code",
   "execution_count": 14,
   "id": "2dabb977",
   "metadata": {},
   "outputs": [
    {
     "data": {
      "text/plain": [
       "((45, 4), (5, 4), (45,), (5,))"
      ]
     },
     "execution_count": 14,
     "metadata": {},
     "output_type": "execute_result"
    }
   ],
   "source": [
    "#train test split \n",
    "x_train, x_test, y_train, y_test = train_test_split(df_customer.drop(columns=['purchased'],axis=1),df_customer.purchased,test_size=0.1,random_state=42)\n",
    "x_train.shape, x_test.shape, y_train.shape, y_test.shape"
   ]
  },
  {
   "cell_type": "code",
   "execution_count": 47,
   "id": "732db943",
   "metadata": {},
   "outputs": [],
   "source": [
    "# Oridinal encoding on education and review of customer dataframe\n",
    "# Label encoding on purchased \n",
    "# Nominal encoding of gender\n",
    "\n",
    "oe = OrdinalEncoder(categories=[['Poor','Average','Good'],['School','UG','PG']])\n",
    "x_train_trf_oe = oe.fit_transform(x_train[['review','education']])\n",
    "x_test_trf_oe = oe.transform(x_test[['review','education']])\n",
    "\n",
    "OHE = OneHotEncoder(sparse=False, drop='first')\n",
    "x_train_trf_OHE = OHE.fit_transform(x_train[['gender']])\n",
    "x_test_trf_OHE  = OHE.transform(x_test[['gender']])\n"
   ]
  },
  {
   "cell_type": "code",
   "execution_count": 48,
   "id": "de3898b8",
   "metadata": {},
   "outputs": [
    {
     "data": {
      "text/plain": [
       "((45, 2), (5, 2))"
      ]
     },
     "execution_count": 48,
     "metadata": {},
     "output_type": "execute_result"
    }
   ],
   "source": [
    "x_train_trf_oe.shape,  x_test_trf_oe.shape"
   ]
  },
  {
   "cell_type": "code",
   "execution_count": 49,
   "id": "5e0f2fd0",
   "metadata": {},
   "outputs": [
    {
     "data": {
      "text/plain": [
       "((45, 1), (5, 1))"
      ]
     },
     "execution_count": 49,
     "metadata": {},
     "output_type": "execute_result"
    }
   ],
   "source": [
    "x_train_trf_OHE.shape, x_test_trf_OHE.shape"
   ]
  },
  {
   "cell_type": "code",
   "execution_count": 50,
   "id": "d4bab97c",
   "metadata": {},
   "outputs": [
    {
     "data": {
      "text/plain": [
       "array([39, 53, 57, 92, 97, 51, 16, 94, 65, 72, 18, 23, 64, 38, 75, 74, 59,\n",
       "       16, 86, 22, 30, 77, 69, 89, 31, 83, 74, 34, 68, 32, 70, 27, 74, 96,\n",
       "       39, 98, 18, 19, 25, 57, 60, 30, 15, 48, 45], dtype=int64)"
      ]
     },
     "execution_count": 50,
     "metadata": {},
     "output_type": "execute_result"
    }
   ],
   "source": [
    "x_train['age'].values"
   ]
  },
  {
   "cell_type": "code",
   "execution_count": 57,
   "id": "f42dca9d",
   "metadata": {
    "scrolled": false
   },
   "outputs": [
    {
     "data": {
      "text/plain": [
       "array([[57.,  1.,  0.,  0.],\n",
       "       [76.,  0.,  2.,  1.],\n",
       "       [73.,  1.,  1.,  1.],\n",
       "       [61.,  0.,  2.,  1.],\n",
       "       [22.,  0.,  1.,  0.]])"
      ]
     },
     "execution_count": 57,
     "metadata": {},
     "output_type": "execute_result"
    }
   ],
   "source": [
    "x_train_encoding_columns = np.hstack((x_train[['age']].values,x_train_trf_oe,x_train_trf_OHE))\n",
    "x_train_encoding_columns\n",
    "\n",
    "x_test_encoding_columns = np.hstack((x_test[['age']].values,x_test_trf_oe,x_test_trf_OHE))\n",
    "x_test_encoding_columns\n"
   ]
  },
  {
   "cell_type": "code",
   "execution_count": 53,
   "id": "6b7848d4",
   "metadata": {},
   "outputs": [
    {
     "data": {
      "text/plain": [
       "((45,), (5,))"
      ]
     },
     "execution_count": 53,
     "metadata": {},
     "output_type": "execute_result"
    }
   ],
   "source": [
    "#label encoding on target columns\n",
    "le= LabelEncoder()\n",
    "y_train_trf_le = le.fit_transform(y_train)\n",
    "y_test_trf_le = le.transform(y_test)\n",
    "y_train_trf_le.shape, y_test_trf_le.shape "
   ]
  },
  {
   "cell_type": "markdown",
   "id": "736f90dd",
   "metadata": {},
   "source": [
    "### Encoding the categorical of car Dataframe\n"
   ]
  },
  {
   "cell_type": "code",
   "execution_count": 122,
   "id": "25e1423d",
   "metadata": {},
   "outputs": [
    {
     "data": {
      "text/plain": [
       "Maruti        2448\n",
       "Hyundai       1415\n",
       "Mahindra       772\n",
       "Tata           734\n",
       "uncommon       538\n",
       "Toyota         488\n",
       "Honda          467\n",
       "Ford           397\n",
       "Chevrolet      230\n",
       "Renault        228\n",
       "Volkswagen     186\n",
       "BMW            120\n",
       "Skoda          105\n",
       "Name: brand, dtype: int64"
      ]
     },
     "execution_count": 122,
     "metadata": {},
     "output_type": "execute_result"
    }
   ],
   "source": [
    "#dataframe brand name of car changed to uncommon which has count less than 100\n",
    "car_less_than_100 = df_car.brand.value_counts()[df_car.brand.value_counts() < 100].index\n",
    "car_less_than_100.nunique()\n",
    "\n",
    "df_car.brand.replace(car_less_than_100,'uncommon',inplace=True)\n",
    "df_car.brand.value_counts()"
   ]
  },
  {
   "cell_type": "code",
   "execution_count": 123,
   "id": "da39fd02",
   "metadata": {},
   "outputs": [
    {
     "data": {
      "text/plain": [
       "((7315, 4), (813, 4), (7315,), (813,))"
      ]
     },
     "execution_count": 123,
     "metadata": {},
     "output_type": "execute_result"
    }
   ],
   "source": [
    "#Train test split \n",
    "x_train, x_test, y_train, y_test = train_test_split(df_car.drop(columns=['selling_price'],axis=1),df_car.selling_price,test_size=0.1,random_state=42)\n",
    "x_train.shape, x_test.shape, y_train.shape, y_test.shape"
   ]
  },
  {
   "cell_type": "code",
   "execution_count": 124,
   "id": "0ea7ac5f",
   "metadata": {},
   "outputs": [
    {
     "data": {
      "text/plain": [
       "((7315, 19), (813, 19))"
      ]
     },
     "execution_count": 124,
     "metadata": {},
     "output_type": "execute_result"
    }
   ],
   "source": [
    "# Onehot encoding required on brand,fuel and owner \n",
    "OHE = OneHotEncoder(sparse=False, drop='first')\n",
    "x_train_trf_OHE = OHE.fit_transform(x_train[['brand','fuel','owner']])\n",
    "x_test_trf_OHE = OHE.transform(x_test[['brand','fuel','owner']])\n",
    "\n",
    "x_train_trf_OHE.shape, x_test_trf_OHE.shape "
   ]
  },
  {
   "cell_type": "code",
   "execution_count": 132,
   "id": "a26716f4",
   "metadata": {},
   "outputs": [
    {
     "data": {
      "text/plain": [
       "((7315, 20), (813, 20))"
      ]
     },
     "execution_count": 132,
     "metadata": {},
     "output_type": "execute_result"
    }
   ],
   "source": [
    "x_train_encoded = np.hstack((x_train[['km_driven']].values,x_train_trf_OHE))\n",
    "\n",
    "x_test_encoded = np.hstack((x_test[['km_driven']].values,x_test_trf_OHE))\n",
    "\n",
    "x_train_encoded.shape, x_test_encoded.shape"
   ]
  },
  {
   "cell_type": "markdown",
   "id": "18a38b43",
   "metadata": {},
   "source": [
    "# Handling Categorical Columns with using column transformer and Pipeline"
   ]
  },
  {
   "cell_type": "code",
   "execution_count": 134,
   "id": "c230daa1",
   "metadata": {},
   "outputs": [],
   "source": [
    "df_titanic = pd.read_csv('train.csv')"
   ]
  },
  {
   "cell_type": "code",
   "execution_count": 137,
   "id": "1e2148f2",
   "metadata": {},
   "outputs": [],
   "source": [
    "df_titanic.drop(columns=['PassengerId','Name','Ticket','Cabin'], inplace=True)\n",
    "# Drop the passengerID, Name, Ticket, Cabin in order to get simple intution of using column transformer  "
   ]
  },
  {
   "cell_type": "code",
   "execution_count": 138,
   "id": "9b4edf76",
   "metadata": {},
   "outputs": [
    {
     "data": {
      "text/html": [
       "<div>\n",
       "<style scoped>\n",
       "    .dataframe tbody tr th:only-of-type {\n",
       "        vertical-align: middle;\n",
       "    }\n",
       "\n",
       "    .dataframe tbody tr th {\n",
       "        vertical-align: top;\n",
       "    }\n",
       "\n",
       "    .dataframe thead th {\n",
       "        text-align: right;\n",
       "    }\n",
       "</style>\n",
       "<table border=\"1\" class=\"dataframe\">\n",
       "  <thead>\n",
       "    <tr style=\"text-align: right;\">\n",
       "      <th></th>\n",
       "      <th>Survived</th>\n",
       "      <th>Pclass</th>\n",
       "      <th>Sex</th>\n",
       "      <th>Age</th>\n",
       "      <th>SibSp</th>\n",
       "      <th>Parch</th>\n",
       "      <th>Fare</th>\n",
       "      <th>Embarked</th>\n",
       "    </tr>\n",
       "  </thead>\n",
       "  <tbody>\n",
       "    <tr>\n",
       "      <th>164</th>\n",
       "      <td>0</td>\n",
       "      <td>3</td>\n",
       "      <td>male</td>\n",
       "      <td>1.0</td>\n",
       "      <td>4</td>\n",
       "      <td>1</td>\n",
       "      <td>39.6875</td>\n",
       "      <td>S</td>\n",
       "    </tr>\n",
       "    <tr>\n",
       "      <th>791</th>\n",
       "      <td>0</td>\n",
       "      <td>2</td>\n",
       "      <td>male</td>\n",
       "      <td>16.0</td>\n",
       "      <td>0</td>\n",
       "      <td>0</td>\n",
       "      <td>26.0000</td>\n",
       "      <td>S</td>\n",
       "    </tr>\n",
       "    <tr>\n",
       "      <th>87</th>\n",
       "      <td>0</td>\n",
       "      <td>3</td>\n",
       "      <td>male</td>\n",
       "      <td>NaN</td>\n",
       "      <td>0</td>\n",
       "      <td>0</td>\n",
       "      <td>8.0500</td>\n",
       "      <td>S</td>\n",
       "    </tr>\n",
       "    <tr>\n",
       "      <th>816</th>\n",
       "      <td>0</td>\n",
       "      <td>3</td>\n",
       "      <td>female</td>\n",
       "      <td>23.0</td>\n",
       "      <td>0</td>\n",
       "      <td>0</td>\n",
       "      <td>7.9250</td>\n",
       "      <td>S</td>\n",
       "    </tr>\n",
       "    <tr>\n",
       "      <th>586</th>\n",
       "      <td>0</td>\n",
       "      <td>2</td>\n",
       "      <td>male</td>\n",
       "      <td>47.0</td>\n",
       "      <td>0</td>\n",
       "      <td>0</td>\n",
       "      <td>15.0000</td>\n",
       "      <td>S</td>\n",
       "    </tr>\n",
       "  </tbody>\n",
       "</table>\n",
       "</div>"
      ],
      "text/plain": [
       "     Survived  Pclass     Sex   Age  SibSp  Parch     Fare Embarked\n",
       "164         0       3    male   1.0      4      1  39.6875        S\n",
       "791         0       2    male  16.0      0      0  26.0000        S\n",
       "87          0       3    male   NaN      0      0   8.0500        S\n",
       "816         0       3  female  23.0      0      0   7.9250        S\n",
       "586         0       2    male  47.0      0      0  15.0000        S"
      ]
     },
     "execution_count": 138,
     "metadata": {},
     "output_type": "execute_result"
    }
   ],
   "source": [
    "df_titanic.sample(5)"
   ]
  },
  {
   "cell_type": "code",
   "execution_count": 141,
   "id": "039e20a1",
   "metadata": {},
   "outputs": [
    {
     "data": {
      "text/plain": [
       "((712, 7), (179, 7), (712,), (179,))"
      ]
     },
     "execution_count": 141,
     "metadata": {},
     "output_type": "execute_result"
    }
   ],
   "source": [
    "#Train test split the dataframe\n",
    "x_train, x_test, y_train, y_test = train_test_split(df_titanic.drop(columns=['Survived']),df_titanic.Survived,test_size=0.2,random_state=2)\n",
    "x_train.shape, x_test.shape, y_train.shape, y_test.shape"
   ]
  },
  {
   "cell_type": "code",
   "execution_count": 140,
   "id": "c6eafd75",
   "metadata": {},
   "outputs": [
    {
     "data": {
      "text/plain": [
       "Survived      0\n",
       "Pclass        0\n",
       "Sex           0\n",
       "Age         177\n",
       "SibSp         0\n",
       "Parch         0\n",
       "Fare          0\n",
       "Embarked      2\n",
       "dtype: int64"
      ]
     },
     "execution_count": 140,
     "metadata": {},
     "output_type": "execute_result"
    }
   ],
   "source": [
    "df_titanic.isnull().sum()"
   ]
  },
  {
   "cell_type": "code",
   "execution_count": 196,
   "id": "60a7d54e",
   "metadata": {},
   "outputs": [],
   "source": [
    "#Pipe Line steps - Simple Imputation (Age and Embarked column), Encoding (Sex and Embarked), Scaling all the columns,\n",
    "                #  Feature selection and applying model (algorithm)\n",
    "#Step 1 Simple imputation\n",
    "\n",
    "trf1 = ColumnTransformer(transformers=[\n",
    "    ('Age_imputor',SimpleImputer(),[2]),\n",
    "    ('Embarked_imputor',SimpleImputer(strategy='most_frequent'),[6])\n",
    "    \n",
    "],remainder='passthrough')"
   ]
  },
  {
   "cell_type": "code",
   "execution_count": 197,
   "id": "33ae8ea4",
   "metadata": {},
   "outputs": [],
   "source": [
    "#Step 2 OHE on sex and embarked columns\n",
    "\n",
    "trf2 = ColumnTransformer(transformers=[\n",
    "    ('OHE_Sex_Embarked',OneHotEncoder(sparse=False,handle_unknown='ignore'),[1,6])    \n",
    "],remainder='passthrough')"
   ]
  },
  {
   "cell_type": "code",
   "execution_count": 203,
   "id": "83d01514",
   "metadata": {},
   "outputs": [],
   "source": [
    "#Step 3 Scaling all the columns\n",
    "\n",
    "trf3 = ColumnTransformer(transformers=[\n",
    "    ('Scale',MinMaxScaler(),slice(1,10))    \n",
    "])\n"
   ]
  },
  {
   "cell_type": "code",
   "execution_count": 216,
   "id": "c9cfbd8e",
   "metadata": {},
   "outputs": [],
   "source": [
    "#step 4 Selecting the best feature \n",
    "\n",
    "trf4 = SelectKBest(score_func=chi2,k=9)\n"
   ]
  },
  {
   "cell_type": "code",
   "execution_count": 217,
   "id": "860a043c",
   "metadata": {},
   "outputs": [],
   "source": [
    "#step 5 Algorithm \n",
    "\n",
    "trf5 = DecisionTreeClassifier()"
   ]
  },
  {
   "cell_type": "code",
   "execution_count": 218,
   "id": "fac8fc3a",
   "metadata": {},
   "outputs": [],
   "source": [
    "pipe = Pipeline([\n",
    "    ('trf1',trf1),\n",
    "    ('trf2',trf2),\n",
    "    ('trf3',trf3),\n",
    "    ('trf4',trf4),\n",
    "    ('trf5',trf5)\n",
    "])\n"
   ]
  },
  {
   "cell_type": "code",
   "execution_count": 219,
   "id": "139b5810",
   "metadata": {},
   "outputs": [
    {
     "data": {
      "text/html": [
       "<style>#sk-b003b829-d86d-4696-8c5e-df523bb3d683 {color: black;background-color: white;}#sk-b003b829-d86d-4696-8c5e-df523bb3d683 pre{padding: 0;}#sk-b003b829-d86d-4696-8c5e-df523bb3d683 div.sk-toggleable {background-color: white;}#sk-b003b829-d86d-4696-8c5e-df523bb3d683 label.sk-toggleable__label {cursor: pointer;display: block;width: 100%;margin-bottom: 0;padding: 0.3em;box-sizing: border-box;text-align: center;}#sk-b003b829-d86d-4696-8c5e-df523bb3d683 label.sk-toggleable__label-arrow:before {content: \"▸\";float: left;margin-right: 0.25em;color: #696969;}#sk-b003b829-d86d-4696-8c5e-df523bb3d683 label.sk-toggleable__label-arrow:hover:before {color: black;}#sk-b003b829-d86d-4696-8c5e-df523bb3d683 div.sk-estimator:hover label.sk-toggleable__label-arrow:before {color: black;}#sk-b003b829-d86d-4696-8c5e-df523bb3d683 div.sk-toggleable__content {max-height: 0;max-width: 0;overflow: hidden;text-align: left;background-color: #f0f8ff;}#sk-b003b829-d86d-4696-8c5e-df523bb3d683 div.sk-toggleable__content pre {margin: 0.2em;color: black;border-radius: 0.25em;background-color: #f0f8ff;}#sk-b003b829-d86d-4696-8c5e-df523bb3d683 input.sk-toggleable__control:checked~div.sk-toggleable__content {max-height: 200px;max-width: 100%;overflow: auto;}#sk-b003b829-d86d-4696-8c5e-df523bb3d683 input.sk-toggleable__control:checked~label.sk-toggleable__label-arrow:before {content: \"▾\";}#sk-b003b829-d86d-4696-8c5e-df523bb3d683 div.sk-estimator input.sk-toggleable__control:checked~label.sk-toggleable__label {background-color: #d4ebff;}#sk-b003b829-d86d-4696-8c5e-df523bb3d683 div.sk-label input.sk-toggleable__control:checked~label.sk-toggleable__label {background-color: #d4ebff;}#sk-b003b829-d86d-4696-8c5e-df523bb3d683 input.sk-hidden--visually {border: 0;clip: rect(1px 1px 1px 1px);clip: rect(1px, 1px, 1px, 1px);height: 1px;margin: -1px;overflow: hidden;padding: 0;position: absolute;width: 1px;}#sk-b003b829-d86d-4696-8c5e-df523bb3d683 div.sk-estimator {font-family: monospace;background-color: #f0f8ff;border: 1px dotted black;border-radius: 0.25em;box-sizing: border-box;margin-bottom: 0.5em;}#sk-b003b829-d86d-4696-8c5e-df523bb3d683 div.sk-estimator:hover {background-color: #d4ebff;}#sk-b003b829-d86d-4696-8c5e-df523bb3d683 div.sk-parallel-item::after {content: \"\";width: 100%;border-bottom: 1px solid gray;flex-grow: 1;}#sk-b003b829-d86d-4696-8c5e-df523bb3d683 div.sk-label:hover label.sk-toggleable__label {background-color: #d4ebff;}#sk-b003b829-d86d-4696-8c5e-df523bb3d683 div.sk-serial::before {content: \"\";position: absolute;border-left: 1px solid gray;box-sizing: border-box;top: 2em;bottom: 0;left: 50%;}#sk-b003b829-d86d-4696-8c5e-df523bb3d683 div.sk-serial {display: flex;flex-direction: column;align-items: center;background-color: white;padding-right: 0.2em;padding-left: 0.2em;}#sk-b003b829-d86d-4696-8c5e-df523bb3d683 div.sk-item {z-index: 1;}#sk-b003b829-d86d-4696-8c5e-df523bb3d683 div.sk-parallel {display: flex;align-items: stretch;justify-content: center;background-color: white;}#sk-b003b829-d86d-4696-8c5e-df523bb3d683 div.sk-parallel::before {content: \"\";position: absolute;border-left: 1px solid gray;box-sizing: border-box;top: 2em;bottom: 0;left: 50%;}#sk-b003b829-d86d-4696-8c5e-df523bb3d683 div.sk-parallel-item {display: flex;flex-direction: column;position: relative;background-color: white;}#sk-b003b829-d86d-4696-8c5e-df523bb3d683 div.sk-parallel-item:first-child::after {align-self: flex-end;width: 50%;}#sk-b003b829-d86d-4696-8c5e-df523bb3d683 div.sk-parallel-item:last-child::after {align-self: flex-start;width: 50%;}#sk-b003b829-d86d-4696-8c5e-df523bb3d683 div.sk-parallel-item:only-child::after {width: 0;}#sk-b003b829-d86d-4696-8c5e-df523bb3d683 div.sk-dashed-wrapped {border: 1px dashed gray;margin: 0 0.4em 0.5em 0.4em;box-sizing: border-box;padding-bottom: 0.4em;background-color: white;position: relative;}#sk-b003b829-d86d-4696-8c5e-df523bb3d683 div.sk-label label {font-family: monospace;font-weight: bold;background-color: white;display: inline-block;line-height: 1.2em;}#sk-b003b829-d86d-4696-8c5e-df523bb3d683 div.sk-label-container {position: relative;z-index: 2;text-align: center;}#sk-b003b829-d86d-4696-8c5e-df523bb3d683 div.sk-container {/* jupyter's `normalize.less` sets `[hidden] { display: none; }` but bootstrap.min.css set `[hidden] { display: none !important; }` so we also need the `!important` here to be able to override the default hidden behavior on the sphinx rendered scikit-learn.org. See: https://github.com/scikit-learn/scikit-learn/issues/21755 */display: inline-block !important;position: relative;}#sk-b003b829-d86d-4696-8c5e-df523bb3d683 div.sk-text-repr-fallback {display: none;}</style><div id=\"sk-b003b829-d86d-4696-8c5e-df523bb3d683\" class=\"sk-top-container\"><div class=\"sk-text-repr-fallback\"><pre>Pipeline(steps=[(&#x27;trf1&#x27;,\n",
       "                 ColumnTransformer(remainder=&#x27;passthrough&#x27;,\n",
       "                                   transformers=[(&#x27;Age_imputor&#x27;,\n",
       "                                                  SimpleImputer(), [2]),\n",
       "                                                 (&#x27;Embarked_imputor&#x27;,\n",
       "                                                  SimpleImputer(strategy=&#x27;most_frequent&#x27;),\n",
       "                                                  [6])])),\n",
       "                (&#x27;trf2&#x27;,\n",
       "                 ColumnTransformer(remainder=&#x27;passthrough&#x27;,\n",
       "                                   transformers=[(&#x27;OHE_Sex_Embarked&#x27;,\n",
       "                                                  OneHotEncoder(handle_unknown=&#x27;ignore&#x27;,\n",
       "                                                                sparse=False),\n",
       "                                                  [1, 6])])),\n",
       "                (&#x27;trf3&#x27;,\n",
       "                 ColumnTransformer(transformers=[(&#x27;Scale&#x27;, MinMaxScaler(),\n",
       "                                                  slice(1, 10, None))])),\n",
       "                (&#x27;trf4&#x27;,\n",
       "                 SelectKBest(k=9,\n",
       "                             score_func=&lt;function chi2 at 0x0000029CB20E1670&gt;)),\n",
       "                (&#x27;trf5&#x27;, DecisionTreeClassifier())])</pre><b>Please rerun this cell to show the HTML repr or trust the notebook.</b></div><div class=\"sk-container\" hidden><div class=\"sk-item sk-dashed-wrapped\"><div class=\"sk-label-container\"><div class=\"sk-label sk-toggleable\"><input class=\"sk-toggleable__control sk-hidden--visually\" id=\"bfec6130-af8a-4612-91a2-9c83d2e29e96\" type=\"checkbox\" ><label for=\"bfec6130-af8a-4612-91a2-9c83d2e29e96\" class=\"sk-toggleable__label sk-toggleable__label-arrow\">Pipeline</label><div class=\"sk-toggleable__content\"><pre>Pipeline(steps=[(&#x27;trf1&#x27;,\n",
       "                 ColumnTransformer(remainder=&#x27;passthrough&#x27;,\n",
       "                                   transformers=[(&#x27;Age_imputor&#x27;,\n",
       "                                                  SimpleImputer(), [2]),\n",
       "                                                 (&#x27;Embarked_imputor&#x27;,\n",
       "                                                  SimpleImputer(strategy=&#x27;most_frequent&#x27;),\n",
       "                                                  [6])])),\n",
       "                (&#x27;trf2&#x27;,\n",
       "                 ColumnTransformer(remainder=&#x27;passthrough&#x27;,\n",
       "                                   transformers=[(&#x27;OHE_Sex_Embarked&#x27;,\n",
       "                                                  OneHotEncoder(handle_unknown=&#x27;ignore&#x27;,\n",
       "                                                                sparse=False),\n",
       "                                                  [1, 6])])),\n",
       "                (&#x27;trf3&#x27;,\n",
       "                 ColumnTransformer(transformers=[(&#x27;Scale&#x27;, MinMaxScaler(),\n",
       "                                                  slice(1, 10, None))])),\n",
       "                (&#x27;trf4&#x27;,\n",
       "                 SelectKBest(k=9,\n",
       "                             score_func=&lt;function chi2 at 0x0000029CB20E1670&gt;)),\n",
       "                (&#x27;trf5&#x27;, DecisionTreeClassifier())])</pre></div></div></div><div class=\"sk-serial\"><div class=\"sk-item sk-dashed-wrapped\"><div class=\"sk-label-container\"><div class=\"sk-label sk-toggleable\"><input class=\"sk-toggleable__control sk-hidden--visually\" id=\"570b2059-1616-4614-b373-b048fdec8948\" type=\"checkbox\" ><label for=\"570b2059-1616-4614-b373-b048fdec8948\" class=\"sk-toggleable__label sk-toggleable__label-arrow\">trf1: ColumnTransformer</label><div class=\"sk-toggleable__content\"><pre>ColumnTransformer(remainder=&#x27;passthrough&#x27;,\n",
       "                  transformers=[(&#x27;Age_imputor&#x27;, SimpleImputer(), [2]),\n",
       "                                (&#x27;Embarked_imputor&#x27;,\n",
       "                                 SimpleImputer(strategy=&#x27;most_frequent&#x27;),\n",
       "                                 [6])])</pre></div></div></div><div class=\"sk-parallel\"><div class=\"sk-parallel-item\"><div class=\"sk-item\"><div class=\"sk-label-container\"><div class=\"sk-label sk-toggleable\"><input class=\"sk-toggleable__control sk-hidden--visually\" id=\"db3dcec8-4c82-49ba-b663-9e12ee19f97a\" type=\"checkbox\" ><label for=\"db3dcec8-4c82-49ba-b663-9e12ee19f97a\" class=\"sk-toggleable__label sk-toggleable__label-arrow\">Age_imputor</label><div class=\"sk-toggleable__content\"><pre>[2]</pre></div></div></div><div class=\"sk-serial\"><div class=\"sk-item\"><div class=\"sk-estimator sk-toggleable\"><input class=\"sk-toggleable__control sk-hidden--visually\" id=\"f98bf685-5412-4250-988a-43356c6e31a3\" type=\"checkbox\" ><label for=\"f98bf685-5412-4250-988a-43356c6e31a3\" class=\"sk-toggleable__label sk-toggleable__label-arrow\">SimpleImputer</label><div class=\"sk-toggleable__content\"><pre>SimpleImputer()</pre></div></div></div></div></div></div><div class=\"sk-parallel-item\"><div class=\"sk-item\"><div class=\"sk-label-container\"><div class=\"sk-label sk-toggleable\"><input class=\"sk-toggleable__control sk-hidden--visually\" id=\"2e52939f-3279-4084-b9d0-0c82070d6e46\" type=\"checkbox\" ><label for=\"2e52939f-3279-4084-b9d0-0c82070d6e46\" class=\"sk-toggleable__label sk-toggleable__label-arrow\">Embarked_imputor</label><div class=\"sk-toggleable__content\"><pre>[6]</pre></div></div></div><div class=\"sk-serial\"><div class=\"sk-item\"><div class=\"sk-estimator sk-toggleable\"><input class=\"sk-toggleable__control sk-hidden--visually\" id=\"f9de0794-c85d-45f6-a70c-33b8880be30e\" type=\"checkbox\" ><label for=\"f9de0794-c85d-45f6-a70c-33b8880be30e\" class=\"sk-toggleable__label sk-toggleable__label-arrow\">SimpleImputer</label><div class=\"sk-toggleable__content\"><pre>SimpleImputer(strategy=&#x27;most_frequent&#x27;)</pre></div></div></div></div></div></div><div class=\"sk-parallel-item\"><div class=\"sk-item\"><div class=\"sk-label-container\"><div class=\"sk-label sk-toggleable\"><input class=\"sk-toggleable__control sk-hidden--visually\" id=\"021c231d-61c6-4370-843c-6a793eb02840\" type=\"checkbox\" ><label for=\"021c231d-61c6-4370-843c-6a793eb02840\" class=\"sk-toggleable__label sk-toggleable__label-arrow\">remainder</label><div class=\"sk-toggleable__content\"><pre>[&#x27;Pclass&#x27;, &#x27;Sex&#x27;, &#x27;SibSp&#x27;, &#x27;Parch&#x27;, &#x27;Fare&#x27;]</pre></div></div></div><div class=\"sk-serial\"><div class=\"sk-item\"><div class=\"sk-estimator sk-toggleable\"><input class=\"sk-toggleable__control sk-hidden--visually\" id=\"e37c6bbc-ae37-49d0-b592-8aeb84d1fb30\" type=\"checkbox\" ><label for=\"e37c6bbc-ae37-49d0-b592-8aeb84d1fb30\" class=\"sk-toggleable__label sk-toggleable__label-arrow\">passthrough</label><div class=\"sk-toggleable__content\"><pre>passthrough</pre></div></div></div></div></div></div></div></div><div class=\"sk-item sk-dashed-wrapped\"><div class=\"sk-label-container\"><div class=\"sk-label sk-toggleable\"><input class=\"sk-toggleable__control sk-hidden--visually\" id=\"08d10c04-6478-45f6-ada6-6ad1a0dd061e\" type=\"checkbox\" ><label for=\"08d10c04-6478-45f6-ada6-6ad1a0dd061e\" class=\"sk-toggleable__label sk-toggleable__label-arrow\">trf2: ColumnTransformer</label><div class=\"sk-toggleable__content\"><pre>ColumnTransformer(remainder=&#x27;passthrough&#x27;,\n",
       "                  transformers=[(&#x27;OHE_Sex_Embarked&#x27;,\n",
       "                                 OneHotEncoder(handle_unknown=&#x27;ignore&#x27;,\n",
       "                                               sparse=False),\n",
       "                                 [1, 6])])</pre></div></div></div><div class=\"sk-parallel\"><div class=\"sk-parallel-item\"><div class=\"sk-item\"><div class=\"sk-label-container\"><div class=\"sk-label sk-toggleable\"><input class=\"sk-toggleable__control sk-hidden--visually\" id=\"bfee1b25-a5d3-4dff-9100-1c5c1e6ebad5\" type=\"checkbox\" ><label for=\"bfee1b25-a5d3-4dff-9100-1c5c1e6ebad5\" class=\"sk-toggleable__label sk-toggleable__label-arrow\">OHE_Sex_Embarked</label><div class=\"sk-toggleable__content\"><pre>[1, 6]</pre></div></div></div><div class=\"sk-serial\"><div class=\"sk-item\"><div class=\"sk-estimator sk-toggleable\"><input class=\"sk-toggleable__control sk-hidden--visually\" id=\"ff3c612f-f30c-499e-84a1-16392c050b6e\" type=\"checkbox\" ><label for=\"ff3c612f-f30c-499e-84a1-16392c050b6e\" class=\"sk-toggleable__label sk-toggleable__label-arrow\">OneHotEncoder</label><div class=\"sk-toggleable__content\"><pre>OneHotEncoder(handle_unknown=&#x27;ignore&#x27;, sparse=False)</pre></div></div></div></div></div></div><div class=\"sk-parallel-item\"><div class=\"sk-item\"><div class=\"sk-label-container\"><div class=\"sk-label sk-toggleable\"><input class=\"sk-toggleable__control sk-hidden--visually\" id=\"9a27efd5-0d8d-4062-a284-fda69617feb8\" type=\"checkbox\" ><label for=\"9a27efd5-0d8d-4062-a284-fda69617feb8\" class=\"sk-toggleable__label sk-toggleable__label-arrow\">remainder</label><div class=\"sk-toggleable__content\"><pre>[0, 2, 3, 4, 5]</pre></div></div></div><div class=\"sk-serial\"><div class=\"sk-item\"><div class=\"sk-estimator sk-toggleable\"><input class=\"sk-toggleable__control sk-hidden--visually\" id=\"a68fa608-2cf2-4a38-bd8f-625bbd1c7fe2\" type=\"checkbox\" ><label for=\"a68fa608-2cf2-4a38-bd8f-625bbd1c7fe2\" class=\"sk-toggleable__label sk-toggleable__label-arrow\">passthrough</label><div class=\"sk-toggleable__content\"><pre>passthrough</pre></div></div></div></div></div></div></div></div><div class=\"sk-item sk-dashed-wrapped\"><div class=\"sk-label-container\"><div class=\"sk-label sk-toggleable\"><input class=\"sk-toggleable__control sk-hidden--visually\" id=\"e847e2e3-95e2-4e8f-b9b4-abf782cb71e8\" type=\"checkbox\" ><label for=\"e847e2e3-95e2-4e8f-b9b4-abf782cb71e8\" class=\"sk-toggleable__label sk-toggleable__label-arrow\">trf3: ColumnTransformer</label><div class=\"sk-toggleable__content\"><pre>ColumnTransformer(transformers=[(&#x27;Scale&#x27;, MinMaxScaler(), slice(1, 10, None))])</pre></div></div></div><div class=\"sk-parallel\"><div class=\"sk-parallel-item\"><div class=\"sk-item\"><div class=\"sk-label-container\"><div class=\"sk-label sk-toggleable\"><input class=\"sk-toggleable__control sk-hidden--visually\" id=\"6f0cadf6-3787-4854-8338-14daee1c8e7e\" type=\"checkbox\" ><label for=\"6f0cadf6-3787-4854-8338-14daee1c8e7e\" class=\"sk-toggleable__label sk-toggleable__label-arrow\">Scale</label><div class=\"sk-toggleable__content\"><pre>slice(1, 10, None)</pre></div></div></div><div class=\"sk-serial\"><div class=\"sk-item\"><div class=\"sk-estimator sk-toggleable\"><input class=\"sk-toggleable__control sk-hidden--visually\" id=\"27f7f45a-6eac-4ae9-990d-8b075d5b5523\" type=\"checkbox\" ><label for=\"27f7f45a-6eac-4ae9-990d-8b075d5b5523\" class=\"sk-toggleable__label sk-toggleable__label-arrow\">MinMaxScaler</label><div class=\"sk-toggleable__content\"><pre>MinMaxScaler()</pre></div></div></div></div></div></div></div></div><div class=\"sk-item\"><div class=\"sk-estimator sk-toggleable\"><input class=\"sk-toggleable__control sk-hidden--visually\" id=\"8e578139-d265-4f3b-b2e7-da1dbdfcba0d\" type=\"checkbox\" ><label for=\"8e578139-d265-4f3b-b2e7-da1dbdfcba0d\" class=\"sk-toggleable__label sk-toggleable__label-arrow\">SelectKBest</label><div class=\"sk-toggleable__content\"><pre>SelectKBest(k=9, score_func=&lt;function chi2 at 0x0000029CB20E1670&gt;)</pre></div></div></div><div class=\"sk-item\"><div class=\"sk-estimator sk-toggleable\"><input class=\"sk-toggleable__control sk-hidden--visually\" id=\"3f99eb64-8b73-4bd0-920f-3379a999e6e0\" type=\"checkbox\" ><label for=\"3f99eb64-8b73-4bd0-920f-3379a999e6e0\" class=\"sk-toggleable__label sk-toggleable__label-arrow\">DecisionTreeClassifier</label><div class=\"sk-toggleable__content\"><pre>DecisionTreeClassifier()</pre></div></div></div></div></div></div></div>"
      ],
      "text/plain": [
       "Pipeline(steps=[('trf1',\n",
       "                 ColumnTransformer(remainder='passthrough',\n",
       "                                   transformers=[('Age_imputor',\n",
       "                                                  SimpleImputer(), [2]),\n",
       "                                                 ('Embarked_imputor',\n",
       "                                                  SimpleImputer(strategy='most_frequent'),\n",
       "                                                  [6])])),\n",
       "                ('trf2',\n",
       "                 ColumnTransformer(remainder='passthrough',\n",
       "                                   transformers=[('OHE_Sex_Embarked',\n",
       "                                                  OneHotEncoder(handle_unknown='ignore',\n",
       "                                                                sparse=False),\n",
       "                                                  [1, 6])])),\n",
       "                ('trf3',\n",
       "                 ColumnTransformer(transformers=[('Scale', MinMaxScaler(),\n",
       "                                                  slice(1, 10, None))])),\n",
       "                ('trf4',\n",
       "                 SelectKBest(k=9,\n",
       "                             score_func=<function chi2 at 0x0000029CB20E1670>)),\n",
       "                ('trf5', DecisionTreeClassifier())])"
      ]
     },
     "execution_count": 219,
     "metadata": {},
     "output_type": "execute_result"
    }
   ],
   "source": [
    "pipe.fit(x_train,y_train)"
   ]
  },
  {
   "cell_type": "code",
   "execution_count": 220,
   "id": "ddb56f11",
   "metadata": {},
   "outputs": [
    {
     "data": {
      "text/plain": [
       "0.6368715083798883"
      ]
     },
     "execution_count": 220,
     "metadata": {},
     "output_type": "execute_result"
    }
   ],
   "source": [
    "y_pred = pipe.predict(x_test)\n",
    "accuracy_score(y_test,y_pred)"
   ]
  },
  {
   "cell_type": "code",
   "execution_count": null,
   "id": "1990b905",
   "metadata": {},
   "outputs": [],
   "source": []
  }
 ],
 "metadata": {
  "kernelspec": {
   "display_name": "Python 3 (ipykernel)",
   "language": "python",
   "name": "python3"
  },
  "language_info": {
   "codemirror_mode": {
    "name": "ipython",
    "version": 3
   },
   "file_extension": ".py",
   "mimetype": "text/x-python",
   "name": "python",
   "nbconvert_exporter": "python",
   "pygments_lexer": "ipython3",
   "version": "3.9.13"
  }
 },
 "nbformat": 4,
 "nbformat_minor": 5
}
